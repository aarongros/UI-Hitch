{
 "cells": [
  {
   "cell_type": "code",
   "execution_count": 24,
   "metadata": {},
   "outputs": [],
   "source": [
    "# install.packages(\"RSQLite\")\n",
    "# install.packages(\"Hmisc\")\n",
    "library(\"DBI\")\n",
    "library(Hmisc)\n",
    "date <- \"2018-11-14\""
   ]
  },
  {
   "cell_type": "code",
   "execution_count": 25,
   "metadata": {},
   "outputs": [],
   "source": [
    "conn <- dbConnect(RSQLite::SQLite(), \"stop_times.db\")\n",
    "res <- dbSendQuery(conn, paste0(\"SELECT arrival_time,\\\"\", date, \"\\\" FROM stop_times WHERE \\\"\", date, \"\\\" IS NOT NULL\"))\n",
    "all_vals <- dbFetch(res)\n",
    "vals <- all_vals[[date]]"
   ]
  },
  {
   "cell_type": "markdown",
   "metadata": {},
   "source": [
    "### Some summary statistics"
   ]
  },
  {
   "cell_type": "code",
   "execution_count": 26,
   "metadata": {},
   "outputs": [
    {
     "data": {
      "text/plain": [
       " \n",
       "NULL\n"
      ]
     },
     "metadata": {},
     "output_type": "display_data"
    },
    {
     "data": {
      "text/plain": [
       "Length  Class   Mode \n",
       "     0   NULL   NULL "
      ]
     },
     "metadata": {},
     "output_type": "display_data"
    }
   ],
   "source": [
    "Hmisc::describe(vals)\n",
    "summary(vals)"
   ]
  },
  {
   "cell_type": "code",
   "execution_count": 23,
   "metadata": {},
   "outputs": [
    {
     "name": "stderr",
     "output_type": "stream",
     "text": [
      "Warning message in mean.default(vals):\n",
      "“argument is not numeric or logical: returning NA”"
     ]
    },
    {
     "name": "stdout",
     "output_type": "stream",
     "text": [
      "[1] \"average delay of buses: NA seconds\"\n",
      "[1] \"buses that arrived exactly on time: NaN%\"\n",
      "[1] \"buses that weren't early but less than a minute late: NaN%\"\n"
     ]
    },
    {
     "ename": "ERROR",
     "evalue": "Error in abs(vals): non-numeric argument to mathematical function\n",
     "output_type": "error",
     "traceback": [
      "Error in abs(vals): non-numeric argument to mathematical function\nTraceback:\n",
      "1. print(paste0(\"buses that were within 30 seconds of their scheduled time: \", \n .     round(mean(abs(vals) < 30), 3) * 100, \"%\"))",
      "2. paste0(\"buses that were within 30 seconds of their scheduled time: \", \n .     round(mean(abs(vals) < 30), 3) * 100, \"%\")",
      "3. mean(abs(vals) < 30)"
     ]
    }
   ],
   "source": [
    "print(paste0(\"average delay of buses: \", round(mean(vals), 4), \" seconds\"))\n",
    "print(paste0(\"buses that arrived exactly on time: \", round(mean(vals == 0), 3)*100, \"%\"))\n",
    "print(paste0(\"buses that weren't early but less than a minute late: \", round(mean(vals >= 0 & vals < 60), 3)*100, \"%\"))\n",
    "print(paste0(\"buses that were within 30 seconds of their scheduled time: \", round(mean(abs(vals) < 30), 3)*100, \"%\"))\n",
    "print(paste0(\"buses that were more than 5 minutes late: \", round(mean(vals > 300), 3)*100, \"%\"))\n",
    "print(paste0(\"buses that were more than 5 minutes early: \", round(mean(vals < -300), 3)*100, \"%\"))"
   ]
  },
  {
   "cell_type": "code",
   "execution_count": null,
   "metadata": {},
   "outputs": [],
   "source": [
    "histinfo <- hist(vals, breaks=1000, freq=FALSE, xlab=\"Bus Delay (sec)\", main=paste(\"Histogram of Bus Delays on\", date))"
   ]
  },
  {
   "cell_type": "code",
   "execution_count": null,
   "metadata": {},
   "outputs": [],
   "source": [
    "head(sorted_highest_peaks <- histinfo$density[order(histinfo$density, decreasing = TRUE)])"
   ]
  },
  {
   "cell_type": "code",
   "execution_count": null,
   "metadata": {},
   "outputs": [],
   "source": [
    "hist(vals, breaks=1000, xlim=c(mean(vals)-2*sd(vals), mean(vals)+2*sd(vals)), ylim=c(0,sorted_highest_peaks[2]), freq=FALSE, xlab=\"Bus Delay (sec)\", main=paste(\"[Zoomed +-2SD] Histogram of Bus Delays on\", date))"
   ]
  },
  {
   "cell_type": "code",
   "execution_count": null,
   "metadata": {},
   "outputs": [],
   "source": [
    "hist(vals, breaks=1000, ylim=c(0,sorted_highest_peaks[3]), freq=FALSE, xlab=\"Bus Delay (sec)\", main=paste(\"[Zoomed in Density] Histogram of Bus Delays on\", date))"
   ]
  },
  {
   "cell_type": "code",
   "execution_count": null,
   "metadata": {},
   "outputs": [],
   "source": [
    "hist(vals, breaks=1000, ylim=c(0,sorted_highest_peaks[3]), freq=FALSE, xlab=\"Bus Delay (sec)\", main=\"Histogram of Bus Delays + Normal Curve Superimposed\")\n",
    "curve(dnorm(x, mean(vals), sd(vals)), add=TRUE, col='RED')"
   ]
  },
  {
   "cell_type": "code",
   "execution_count": null,
   "metadata": {},
   "outputs": [],
   "source": [
    "arrTimes <- as.list(all_vals[['arrival_time']])\n",
    "arrTimeDates <- sapply(arrTimes, function (time) {paste(date, time)})\n",
    "arrPOSIX <- as.POSIXct(arrTimeDates, format=\"%Y-%m-%d %H:%M:%S\", origin=\"1960-01-01\")\n",
    "cols <- rep(1, length(vals))\n",
    "cols[vals == 0] <- 2\n",
    "plot(vals ~ arrPOSIX, xlab=\"Time\", ylab=\"Delay (sec)\", main=paste(\"Delay of buses over Time of Day on\", date), las=1, pch=20, col=cols)\n",
    "axis.POSIXct(1, x=arrPOSIX)\n",
    "\n",
    "# add vertical lines to show beginning of hour, in case variation was higher at the beginnning of the hour\n",
    "lines <- as.POSIXct(sapply(seq(0, 24, 1), function (time) {paste(date, time)}), format=\"%Y-%m-%d %H\")\n",
    "abline(v=lines)\n",
    "\n",
    "# linear model\n",
    "fit <- lm(vals ~ arrPOSIX)\n",
    "abline(fit, col=\"BLUE\", lwd=3)\n",
    "\n",
    "# technically shouldn't be correlated? need more data to prove (could be sample size causing less variability)\n",
    "summary(fit)"
   ]
  },
  {
   "cell_type": "code",
   "execution_count": null,
   "metadata": {},
   "outputs": [],
   "source": [
    "res <- dbSendQuery(conn, paste0(\"SELECT DISTINCT route_id FROM stop_times\"))\n",
    "all_routes <- dbFetch(res)\n",
    "length(all_routes[['route_id']])"
   ]
  },
  {
   "cell_type": "code",
   "execution_count": null,
   "metadata": {},
   "outputs": [],
   "source": [
    "res <- dbSendQuery(conn, paste0(\"SELECT route_id, \\\"\", date, \"\\\" FROM stop_times ORDER BY route_id\"))\n",
    "head(all_departures <- dbFetch(res))"
   ]
  },
  {
   "cell_type": "code",
   "execution_count": null,
   "metadata": {},
   "outputs": [],
   "source": [
    "data <- all_departures[[date]]\n",
    "confint95 <- c(-1.96, 1.96) * sd(data, na.rm=TRUE) + mean(data, na.rm=TRUE)\n",
    "filter <- all_departures[[date]] < confint95[2] & all_departures[[date]] > confint95[1]\n",
    "sorted_routes <- order(unique(all_departures[['route_id']][filter]))\n",
    "\n",
    "# png(filename=\"all_routes.png\", width=10, height=10, units=\"in\", res=800)\n",
    "histogram(~data[filter] | all_departures[['route_id']][filter],\n",
    "          xlab=\"Delay of bus arrivals (seconds)\",\n",
    "          xlim=c(confint95[1],confint95[2]),\n",
    "          ylim=c(0,5),\n",
    "          main=paste0(\"Delay of bus arrivals by bus routes (collected on \", date, \")\"),\n",
    "          breaks=seq(confint95[1]-5, confint95[2]+5,5),\n",
    "          par.strip.text=list(cex=0.5),\n",
    "          layout=c(round(length(sorted_routes) / 9, 0) + 1, 9),\n",
    "          panel=function(x,...) {\n",
    "              panel.histogram(x,...)\n",
    "              panel.text(300,4,\n",
    "                         labels=paste0(\n",
    "                             'mean: ', round(mean(x), 2), '\\nsd: ', round(sd(x), 2), '\\nn: ', length(x)),\n",
    "                             cex=0.3)\n",
    "          })\n",
    "# dev.off()"
   ]
  },
  {
   "cell_type": "code",
   "execution_count": null,
   "metadata": {},
   "outputs": [],
   "source": []
  },
  {
   "cell_type": "code",
   "execution_count": null,
   "metadata": {},
   "outputs": [],
   "source": []
  }
 ],
 "metadata": {
  "kernelspec": {
   "display_name": "R",
   "language": "R",
   "name": "ir"
  },
  "language_info": {
   "codemirror_mode": "r",
   "file_extension": ".r",
   "mimetype": "text/x-r-source",
   "name": "R",
   "pygments_lexer": "r",
   "version": "3.5.1"
  }
 },
 "nbformat": 4,
 "nbformat_minor": 2
}
