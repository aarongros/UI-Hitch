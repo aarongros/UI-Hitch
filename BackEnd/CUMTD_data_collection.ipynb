{
 "cells": [
  {
   "cell_type": "code",
   "execution_count": 29,
   "metadata": {},
   "outputs": [],
   "source": [
    "import requests\n",
    "from bs4 import BeautifulSoup\n",
    "import pandas as pd\n",
    "from datetime import datetime\n",
    "\n",
    "%run \"../../apikey.py\" #outside actual git repo, make sure to add file/replace with own apikey\n",
    "VERSION = \"v2.2\"\n",
    "OUTPUT_FORMAT = \"json\"\n",
    "API_KEY = keys['CUMTD']"
   ]
  },
  {
   "cell_type": "code",
   "execution_count": 18,
   "metadata": {},
   "outputs": [],
   "source": [
    "def cumtdRequestUrl(methodname, other_args={}, version=VERSION, output=OUTPUT_FORMAT, key=API_KEY):\n",
    "    rooturl = \"https://developer.cumtd.com/api/{v}/{f}/\".format(v=VERSION, f=OUTPUT_FORMAT)\n",
    "    url = rooturl + methodname + \"?key={}\".format(key)\n",
    "    for param, value in other_args.items():\n",
    "        url = url + \"&{}={}\".format(param, value)\n",
    "    return url"
   ]
  },
  {
   "cell_type": "code",
   "execution_count": 30,
   "metadata": {},
   "outputs": [
    {
     "data": {
      "text/plain": [
       "{'time': '2018-10-31T21:12:51-05:00',\n",
       " 'new_changeset': True,\n",
       " 'status': {'code': 200, 'msg': 'ok'},\n",
       " 'rqst': {'method': 'GetApiUsage', 'params': {}},\n",
       " 'days': []}"
      ]
     },
     "execution_count": 30,
     "metadata": {},
     "output_type": "execute_result"
    }
   ],
   "source": [
    "# check API usage, cuz why not\n",
    "requests.get(cumtdRequestUrl(\"getapiusage\")).json()"
   ]
  },
  {
   "cell_type": "code",
   "execution_count": 20,
   "metadata": {},
   "outputs": [],
   "source": [
    "# get all stops\n",
    "r = requests.get(cumtdRequestUrl(\"getstops\"))\n",
    "json = r.json()"
   ]
  },
  {
   "cell_type": "code",
   "execution_count": 21,
   "metadata": {},
   "outputs": [],
   "source": [
    "# arrange into csv\n",
    "def generateAllStopsCsv(filename):\n",
    "    r = requests.get(cumtdRequestUrl(\"getstops\"))\n",
    "    json = r.json()\n",
    "    \n",
    "    stops = {'stop_id': [], 'stop_name': [], 'code': [], 'distance': [], 'specific_stop_code': [], 'specific_stop_stop_id': [], 'specific_stop_stop_lat': [], 'specific_stop_stop_lon': [], 'specific_stop_stop_name': []}\n",
    "\n",
    "    for stop in json['stops']:\n",
    "        for key in stop.keys():\n",
    "            if key in ['stop_id', 'stop_name', 'code', 'distance']:\n",
    "                stops[key].append(stop[key])\n",
    "            elif key == 'stop_points': pass\n",
    "        for key in ['specific_stop_code', 'specific_stop_stop_id', 'specific_stop_stop_lat', 'specific_stop_stop_lon', 'specific_stop_stop_name']:\n",
    "            stops[key].append('')\n",
    "        for specific_stop in stop['stop_points']:\n",
    "            for key in specific_stop.keys():\n",
    "                if key in ['code', 'stop_id', 'stop_lat', 'stop_lon', 'stop_name']:\n",
    "                    stops['specific_stop_' + key].append(specific_stop[key])\n",
    "            for key in ['stop_id', 'stop_name', 'code', 'distance']:\n",
    "                stops[key].append('')\n",
    "\n",
    "    pd.DataFrame(stops).to_csv(filename, index=False)\n",
    "    \n",
    "# run once per folder\n",
    "# generateAllStopsCsv('all_stops.csv')"
   ]
  },
  {
   "cell_type": "code",
   "execution_count": 22,
   "metadata": {},
   "outputs": [
    {
     "data": {
      "text/plain": [
       "'150DALE'"
      ]
     },
     "execution_count": 22,
     "metadata": {},
     "output_type": "execute_result"
    }
   ],
   "source": [
    "def nameToStopId(name):\n",
    "    stops = pd.read_csv('all_stops.csv')\n",
    "    if name in list(stops['stop_name']):\n",
    "        return stops[stops['stop_name'] == name].iloc[0]['stop_id']\n",
    "    elif name in list(stops['specific_stop_stop_name']):\n",
    "        return stops[stops['specific_stop_stop_name'] == name].iloc[0]['specific_stop_stop_id']\n",
    "    else:\n",
    "        return None\n",
    "    \n",
    "nameToStopId('U.S. 150 and Dale')"
   ]
  },
  {
   "cell_type": "code",
   "execution_count": 25,
   "metadata": {},
   "outputs": [
    {
     "name": "stdout",
     "output_type": "stream",
     "text": [
      "{'time': '2018-10-31T20:50:31-05:00', 'new_changeset': True, 'status': {'code': 200, 'msg': 'ok'}, 'rqst': {'method': 'GetDeparturesByStop', 'params': {'pt': 60, 'stop_id': 'GWNMN:2'}}, 'departures': [{'stop_id': 'GWNMN:2', 'headsign': '220N Illini', 'route': {'route_color': '5a1d5a', 'route_id': 'ILLINI EVENING', 'route_long_name': 'Illini Evening', 'route_short_name': '220', 'route_text_color': 'ffffff'}, 'trip': {'trip_id': '[@7.0.41950648@][1244056065453]/82__I5_UIMTH', 'trip_headsign': 'Lincoln & Killarney', 'route_id': 'ILLINI EVENING', 'block_id': 'I5 UIMTH', 'direction': 'North', 'service_id': 'I5 UIMTH', 'shape_id': '220N ILLINI 10'}, 'vehicle_id': '1603', 'origin': {'stop_id': 'PAR:2'}, 'destination': {'stop_id': 'LNCLNKLRNY:1'}, 'is_monitored': True, 'is_scheduled': True, 'is_istop': True, 'scheduled': '2018-10-31T20:48:24-05:00', 'expected': '2018-10-31T20:50:45-05:00', 'expected_mins': 0, 'location': {'lat': 40.111847, 'lon': -88.223917}}, {'stop_id': 'GWNMN:2', 'headsign': '220N Illini', 'route': {'route_color': '5a1d5a', 'route_id': 'ILLINI EVENING', 'route_long_name': 'Illini Evening', 'route_short_name': '220', 'route_text_color': 'ffffff'}, 'trip': {'trip_id': '[@7.0.41950648@][1244056065453]/83__I7_UIMTH', 'trip_headsign': 'Lincoln & Killarney', 'route_id': 'ILLINI EVENING', 'block_id': 'I7 UIMTH', 'direction': 'North', 'service_id': 'I7 UIMTH', 'shape_id': '220N ILLINI 10'}, 'vehicle_id': '1731', 'origin': {'stop_id': 'PAR:2'}, 'destination': {'stop_id': 'LNCLNKLRNY:1'}, 'is_monitored': True, 'is_scheduled': True, 'is_istop': True, 'scheduled': '2018-10-31T20:58:24-05:00', 'expected': '2018-10-31T20:59:56-05:00', 'expected_mins': 9, 'location': {'lat': 40.10412, 'lon': -88.237083}}, {'stop_id': 'GWNMN:2', 'headsign': '220N Illini', 'route': {'route_color': '5a1d5a', 'route_id': 'ILLINI EVENING', 'route_long_name': 'Illini Evening', 'route_short_name': '220', 'route_text_color': 'ffffff'}, 'trip': {'trip_id': '[@7.0.41950648@][1244056065453]/84__I8_UIMTH', 'trip_headsign': 'Lincoln & Killarney', 'route_id': 'ILLINI EVENING', 'block_id': 'I8 UIMTH', 'direction': 'North', 'service_id': 'I8 UIMTH', 'shape_id': '220N ILLINI 10'}, 'vehicle_id': '1183', 'origin': {'stop_id': 'PAR:2'}, 'destination': {'stop_id': 'LNCLNKLRNY:1'}, 'is_monitored': True, 'is_scheduled': True, 'is_istop': True, 'scheduled': '2018-10-31T21:08:24-05:00', 'expected': '2018-10-31T21:11:42-05:00', 'expected_mins': 21, 'location': {'lat': 40.099497, 'lon': -88.220917}}, {'stop_id': 'GWNMN:2', 'headsign': '220N Illini', 'route': {'route_color': '5a1d5a', 'route_id': 'ILLINI EVENING', 'route_long_name': 'Illini Evening', 'route_short_name': '220', 'route_text_color': 'ffffff'}, 'trip': {'trip_id': '[@7.0.41950648@][1244056065453]/85__I1-4_UIMTH', 'trip_headsign': 'Lincoln & Killarney', 'route_id': 'ILLINI EVENING', 'block_id': 'I1-4 UIMTH', 'direction': 'North', 'service_id': 'I1-4 UIMTH', 'shape_id': '220N ILLINI 10'}, 'vehicle_id': '1184', 'origin': {'stop_id': 'PAR:2'}, 'destination': {'stop_id': 'LNCLNKLRNY:1'}, 'is_monitored': True, 'is_scheduled': True, 'is_istop': True, 'scheduled': '2018-10-31T21:18:24-05:00', 'expected': '2018-10-31T21:18:24-05:00', 'expected_mins': 28, 'location': {'lat': 40.10716, 'lon': -88.219333}}, {'stop_id': 'GWNMN:2', 'headsign': '220N Illini', 'route': {'route_color': '5a1d5a', 'route_id': 'ILLINI EVENING', 'route_long_name': 'Illini Evening', 'route_short_name': '220', 'route_text_color': 'ffffff'}, 'trip': {'trip_id': '[@7.0.41950648@][1244056065453]/86__I4-3_UIMTH', 'trip_headsign': 'Lincoln & Killarney', 'route_id': 'ILLINI EVENING', 'block_id': 'I4-3 UIMTH', 'direction': 'North', 'service_id': 'I4-3 UIMTH', 'shape_id': '220N ILLINI 10'}, 'vehicle_id': '0322', 'origin': {'stop_id': 'PAR:2'}, 'destination': {'stop_id': 'LNCLNKLRNY:1'}, 'is_monitored': True, 'is_scheduled': True, 'is_istop': True, 'scheduled': '2018-10-31T21:28:24-05:00', 'expected': '2018-10-31T21:28:24-05:00', 'expected_mins': 38, 'location': {'lat': 40.10431, 'lon': -88.23875}}, {'stop_id': 'GWNMN:2', 'headsign': '220N Illini', 'route': {'route_color': '5a1d5a', 'route_id': 'ILLINI EVENING', 'route_long_name': 'Illini Evening', 'route_short_name': '220', 'route_text_color': 'ffffff'}, 'trip': {'trip_id': '[@7.0.41950648@][1244056065453]/87__I6-4_UIMTH', 'trip_headsign': 'Lincoln & Killarney', 'route_id': 'ILLINI EVENING', 'block_id': 'I6-4 UIMTH', 'direction': 'North', 'service_id': 'I6-4 UIMTH', 'shape_id': '220N ILLINI 10'}, 'vehicle_id': '1351', 'origin': {'stop_id': 'PAR:2'}, 'destination': {'stop_id': 'LNCLNKLRNY:1'}, 'is_monitored': True, 'is_scheduled': True, 'is_istop': True, 'scheduled': '2018-10-31T21:38:24-05:00', 'expected': '2018-10-31T21:41:22-05:00', 'expected_mins': 51, 'location': {'lat': 40.114507, 'lon': -88.224083}}, {'stop_id': 'GWNMN:2', 'headsign': '220N Illini', 'route': {'route_color': '5a1d5a', 'route_id': 'ILLINI EVENING', 'route_long_name': 'Illini Evening', 'route_short_name': '220', 'route_text_color': 'ffffff'}, 'trip': {'trip_id': '[@7.0.41950648@][1244056065453]/88__I2_UIMTH', 'trip_headsign': 'Lincoln & Killarney', 'route_id': 'ILLINI EVENING', 'block_id': 'I2 UIMTH', 'direction': 'North', 'service_id': 'I2 UIMTH', 'shape_id': '220N ILLINI 10'}, 'vehicle_id': '1185', 'origin': {'stop_id': 'PAR:2'}, 'destination': {'stop_id': 'LNCLNKLRNY:1'}, 'is_monitored': True, 'is_scheduled': True, 'is_istop': True, 'scheduled': '2018-10-31T21:48:24-05:00', 'expected': '2018-10-31T21:48:24-05:00', 'expected_mins': 58, 'location': {'lat': 40.132303, 'lon': -88.21775}}]}\n",
      "ok\n"
     ]
    }
   ],
   "source": [
    "STOP = nameToStopId('Goodwin & Main (SE Corner)')\n",
    "r = requests.get(cumtdRequestUrl(\"getdeparturesbystop\", {'stop_id': STOP, 'pt': 60}))\n",
    "json = r.json()\n",
    "\n",
    "print(json['status']['msg'])"
   ]
  },
  {
   "cell_type": "code",
   "execution_count": 32,
   "metadata": {},
   "outputs": [
    {
     "data": {
      "text/html": [
       "<div>\n",
       "<style scoped>\n",
       "    .dataframe tbody tr th:only-of-type {\n",
       "        vertical-align: middle;\n",
       "    }\n",
       "\n",
       "    .dataframe tbody tr th {\n",
       "        vertical-align: top;\n",
       "    }\n",
       "\n",
       "    .dataframe thead th {\n",
       "        text-align: right;\n",
       "    }\n",
       "</style>\n",
       "<table border=\"1\" class=\"dataframe\">\n",
       "  <thead>\n",
       "    <tr style=\"text-align: right;\">\n",
       "      <th></th>\n",
       "      <th>name</th>\n",
       "      <th>scheduled_time</th>\n",
       "      <th>expected_time</th>\n",
       "      <th>diff</th>\n",
       "    </tr>\n",
       "  </thead>\n",
       "  <tbody>\n",
       "    <tr>\n",
       "      <th>0</th>\n",
       "      <td>220N Illini</td>\n",
       "      <td>2018-10-31 20:48:24-05:00</td>\n",
       "      <td>2018-10-31 20:50:45-05:00</td>\n",
       "      <td>00:02:21</td>\n",
       "    </tr>\n",
       "    <tr>\n",
       "      <th>1</th>\n",
       "      <td>220N Illini</td>\n",
       "      <td>2018-10-31 20:58:24-05:00</td>\n",
       "      <td>2018-10-31 20:59:56-05:00</td>\n",
       "      <td>00:01:32</td>\n",
       "    </tr>\n",
       "    <tr>\n",
       "      <th>2</th>\n",
       "      <td>220N Illini</td>\n",
       "      <td>2018-10-31 21:08:24-05:00</td>\n",
       "      <td>2018-10-31 21:11:42-05:00</td>\n",
       "      <td>00:03:18</td>\n",
       "    </tr>\n",
       "    <tr>\n",
       "      <th>3</th>\n",
       "      <td>220N Illini</td>\n",
       "      <td>2018-10-31 21:18:24-05:00</td>\n",
       "      <td>2018-10-31 21:18:24-05:00</td>\n",
       "      <td>00:00:00</td>\n",
       "    </tr>\n",
       "    <tr>\n",
       "      <th>4</th>\n",
       "      <td>220N Illini</td>\n",
       "      <td>2018-10-31 21:28:24-05:00</td>\n",
       "      <td>2018-10-31 21:28:24-05:00</td>\n",
       "      <td>00:00:00</td>\n",
       "    </tr>\n",
       "    <tr>\n",
       "      <th>5</th>\n",
       "      <td>220N Illini</td>\n",
       "      <td>2018-10-31 21:38:24-05:00</td>\n",
       "      <td>2018-10-31 21:41:22-05:00</td>\n",
       "      <td>00:02:58</td>\n",
       "    </tr>\n",
       "    <tr>\n",
       "      <th>6</th>\n",
       "      <td>220N Illini</td>\n",
       "      <td>2018-10-31 21:48:24-05:00</td>\n",
       "      <td>2018-10-31 21:48:24-05:00</td>\n",
       "      <td>00:00:00</td>\n",
       "    </tr>\n",
       "  </tbody>\n",
       "</table>\n",
       "</div>"
      ],
      "text/plain": [
       "          name            scheduled_time             expected_time     diff\n",
       "0  220N Illini 2018-10-31 20:48:24-05:00 2018-10-31 20:50:45-05:00 00:02:21\n",
       "1  220N Illini 2018-10-31 20:58:24-05:00 2018-10-31 20:59:56-05:00 00:01:32\n",
       "2  220N Illini 2018-10-31 21:08:24-05:00 2018-10-31 21:11:42-05:00 00:03:18\n",
       "3  220N Illini 2018-10-31 21:18:24-05:00 2018-10-31 21:18:24-05:00 00:00:00\n",
       "4  220N Illini 2018-10-31 21:28:24-05:00 2018-10-31 21:28:24-05:00 00:00:00\n",
       "5  220N Illini 2018-10-31 21:38:24-05:00 2018-10-31 21:41:22-05:00 00:02:58\n",
       "6  220N Illini 2018-10-31 21:48:24-05:00 2018-10-31 21:48:24-05:00 00:00:00"
      ]
     },
     "execution_count": 32,
     "metadata": {},
     "output_type": "execute_result"
    }
   ],
   "source": [
    "names = []\n",
    "scheduled = []\n",
    "expected = []\n",
    "diff = []\n",
    "\n",
    "for departure in json['departures']:\n",
    "    names.append(departure['headsign'])\n",
    "    scheduled_time = datetime.fromisoformat(departure['scheduled'])\n",
    "    expected_time = datetime.fromisoformat(departure['expected'])\n",
    "    diff.append(expected_time - scheduled_time)\n",
    "    scheduled.append(scheduled_time)\n",
    "    expected.append(expected_time)\n",
    "    \n",
    "df = pd.DataFrame({'name': names, 'scheduled_time': scheduled, 'expected_time': expected, 'diff': diff})\n",
    "df"
   ]
  },
  {
   "cell_type": "code",
   "execution_count": null,
   "metadata": {},
   "outputs": [],
   "source": [
    "stop_times_all = pd.read_csv('google_transit/stop_times.txt')\n",
    "stop_times_all.head()"
   ]
  },
  {
   "cell_type": "code",
   "execution_count": null,
   "metadata": {},
   "outputs": [],
   "source": [
    "trip_id = '[@2.0.80548152@][12][1425572286750]/26__BB2_MF'\n",
    "departure_time = '15:29:00'\n",
    "expected_time = '15:29:06'\n",
    "day = '10/30'\n",
    "stop_times_all.loc[(stop_times_all['trip_id'] == trip_id) & (stop_times_all['departure_time'] == departure_time),day] = expected_time\n",
    "stop_times_all[(stop_times_all['trip_id'] == trip_id) & (stop_times_all['departure_time'] == departure_time)]"
   ]
  }
 ],
 "metadata": {
  "kernelspec": {
   "display_name": "Python 3",
   "language": "python",
   "name": "python3"
  },
  "language_info": {
   "codemirror_mode": {
    "name": "ipython",
    "version": 3
   },
   "file_extension": ".py",
   "mimetype": "text/x-python",
   "name": "python",
   "nbconvert_exporter": "python",
   "pygments_lexer": "ipython3",
   "version": "3.7.0"
  }
 },
 "nbformat": 4,
 "nbformat_minor": 2
}
