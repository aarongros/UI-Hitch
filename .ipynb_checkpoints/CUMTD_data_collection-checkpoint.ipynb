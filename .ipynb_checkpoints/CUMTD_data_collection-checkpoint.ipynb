{
 "cells": [
  {
   "cell_type": "code",
   "execution_count": 2,
   "metadata": {},
   "outputs": [],
   "source": [
    "import requests\n",
    "from bs4 import BeautifulSoup\n",
    "import pandas as pd\n",
    "from datetime import datetime\n",
    "\n",
    "VERSION = \"v2.2\"\n",
    "OUTPUT_FORMAT = \"json\"\n",
    "API_KEY = \"e3e7698185a74e2f87a38a87d6b4f705\""
   ]
  },
  {
   "cell_type": "code",
   "execution_count": 3,
   "metadata": {},
   "outputs": [],
   "source": [
    "def cumtdRequestUrl(methodname, other_args={}, version=VERSION, output=OUTPUT_FORMAT, key=API_KEY):\n",
    "    rooturl = \"https://developer.cumtd.com/api/{v}/{f}/\".format(v=VERSION, f=OUTPUT_FORMAT)\n",
    "    url = rooturl + methodname + \"?key={}\".format(key)\n",
    "    for param, value in other_args.items():\n",
    "        url = url + \"&{}={}\".format(param, value)\n",
    "    return url"
   ]
  },
  {
   "cell_type": "code",
   "execution_count": 4,
   "metadata": {},
   "outputs": [
    {
     "data": {
      "text/plain": [
       "{'time': '2018-10-30T14:54:45-05:00',\n",
       " 'new_changeset': True,\n",
       " 'status': {'code': 200, 'msg': 'ok'},\n",
       " 'rqst': {'method': 'GetApiUsage', 'params': {}},\n",
       " 'days': []}"
      ]
     },
     "execution_count": 4,
     "metadata": {},
     "output_type": "execute_result"
    }
   ],
   "source": [
    "requests.get(cumtdRequestUrl(\"getapiusage\")).json()"
   ]
  },
  {
   "cell_type": "code",
   "execution_count": 5,
   "metadata": {},
   "outputs": [],
   "source": [
    "# get all stops\n",
    "r = requests.get(cumtdRequestUrl(\"getstops\"))\n",
    "json = r.json()"
   ]
  },
  {
   "cell_type": "code",
   "execution_count": 6,
   "metadata": {},
   "outputs": [],
   "source": [
    "# arrange into csv\n",
    "def generateAllStopsCsv(filename):\n",
    "    r = requests.get(cumtdRequestUrl(\"getstops\"))\n",
    "    json = r.json()\n",
    "    \n",
    "    stops = {'stop_id': [], 'stop_name': [], 'code': [], 'distance': [], 'specific_stop_code': [], 'specific_stop_stop_id': [], 'specific_stop_stop_lat': [], 'specific_stop_stop_lon': [], 'specific_stop_stop_name': []}\n",
    "\n",
    "    for stop in json['stops']:\n",
    "        for key in stop.keys():\n",
    "            if key in ['stop_id', 'stop_name', 'code', 'distance']:\n",
    "                stops[key].append(stop[key])\n",
    "            elif key == 'stop_points': pass\n",
    "        for key in ['specific_stop_code', 'specific_stop_stop_id', 'specific_stop_stop_lat', 'specific_stop_stop_lon', 'specific_stop_stop_name']:\n",
    "            stops[key].append('')\n",
    "        for specific_stop in stop['stop_points']:\n",
    "            for key in specific_stop.keys():\n",
    "                if key in ['code', 'stop_id', 'stop_lat', 'stop_lon', 'stop_name']:\n",
    "                    stops['specific_stop_' + key].append(specific_stop[key])\n",
    "            for key in ['stop_id', 'stop_name', 'code', 'distance']:\n",
    "                stops[key].append('')\n",
    "\n",
    "    pd.DataFrame(stops).to_csv(filename, index=False)\n",
    "    \n",
    "# generateAllStopsCsv('all_stops.csv')"
   ]
  },
  {
   "cell_type": "code",
   "execution_count": 39,
   "metadata": {},
   "outputs": [
    {
     "data": {
      "text/plain": [
       "'150DALE'"
      ]
     },
     "execution_count": 39,
     "metadata": {},
     "output_type": "execute_result"
    }
   ],
   "source": [
    "def nameToStopId(name):\n",
    "    stops = pd.read_csv('all_stops.csv')\n",
    "    if name in list(stops['stop_name']):\n",
    "        return stops[stops['stop_name'] == name].iloc[0]['stop_id']\n",
    "    elif name in list(stops['specific_stop_stop_name']):\n",
    "        return stops[stops['specific_stop_stop_name'] == name].iloc[0]['specific_stop_stop_id']\n",
    "    else:\n",
    "        return None\n",
    "    \n",
    "nameToStopId('U.S. 150 and Dale')"
   ]
  },
  {
   "cell_type": "code",
   "execution_count": 79,
   "metadata": {},
   "outputs": [
    {
     "name": "stdout",
     "output_type": "stream",
     "text": [
      "ok\n"
     ]
    }
   ],
   "source": [
    "STOP = nameToStopId('Wright & Springfield (SW Corner)')\n",
    "r = requests.get(cumtdRequestUrl(\"getdeparturesbystop\", {'stop_id': STOP, 'pt': 60}))\n",
    "json = r.json()\n",
    "\n",
    "print(json['status']['msg'])"
   ]
  },
  {
   "cell_type": "code",
   "execution_count": 82,
   "metadata": {},
   "outputs": [
    {
     "data": {
      "text/html": [
       "<div>\n",
       "<style scoped>\n",
       "    .dataframe tbody tr th:only-of-type {\n",
       "        vertical-align: middle;\n",
       "    }\n",
       "\n",
       "    .dataframe tbody tr th {\n",
       "        vertical-align: top;\n",
       "    }\n",
       "\n",
       "    .dataframe thead th {\n",
       "        text-align: right;\n",
       "    }\n",
       "</style>\n",
       "<table border=\"1\" class=\"dataframe\">\n",
       "  <thead>\n",
       "    <tr style=\"text-align: right;\">\n",
       "      <th></th>\n",
       "      <th>name</th>\n",
       "      <th>scheduled_time</th>\n",
       "      <th>expected_time</th>\n",
       "      <th>diff</th>\n",
       "    </tr>\n",
       "  </thead>\n",
       "  <tbody>\n",
       "  </tbody>\n",
       "</table>\n",
       "</div>"
      ],
      "text/plain": [
       "Empty DataFrame\n",
       "Columns: [name, scheduled_time, expected_time, diff]\n",
       "Index: []"
      ]
     },
     "execution_count": 82,
     "metadata": {},
     "output_type": "execute_result"
    }
   ],
   "source": [
    "names = []\n",
    "scheduled = []\n",
    "expected = []\n",
    "diff = []\n",
    "\n",
    "for departure in json['departures']:\n",
    "    names.append(departure['headsign'])\n",
    "    scheduled_time = datetime.fromisoformat(departure['scheduled'])\n",
    "    expected_time = datetime.fromisoformat(departure['expected'])\n",
    "    diff.append(expected_time - scheduled_time)\n",
    "    scheduled.append(scheduled_time)\n",
    "    expected.append(expected_time)\n",
    "    \n",
    "df = pd.DataFrame({'name': names, 'scheduled_time': scheduled, 'expected_time': expected, 'diff': diff})\n",
    "df"
   ]
  },
  {
   "cell_type": "code",
   "execution_count": 70,
   "metadata": {},
   "outputs": [
    {
     "data": {
      "text/html": [
       "<div>\n",
       "<style scoped>\n",
       "    .dataframe tbody tr th:only-of-type {\n",
       "        vertical-align: middle;\n",
       "    }\n",
       "\n",
       "    .dataframe tbody tr th {\n",
       "        vertical-align: top;\n",
       "    }\n",
       "\n",
       "    .dataframe thead th {\n",
       "        text-align: right;\n",
       "    }\n",
       "</style>\n",
       "<table border=\"1\" class=\"dataframe\">\n",
       "  <thead>\n",
       "    <tr style=\"text-align: right;\">\n",
       "      <th></th>\n",
       "      <th>trip_id</th>\n",
       "      <th>arrival_time</th>\n",
       "      <th>departure_time</th>\n",
       "      <th>stop_id</th>\n",
       "      <th>stop_sequence</th>\n",
       "      <th>stop_headsign</th>\n",
       "      <th>pickup_type</th>\n",
       "      <th>drop_off_type</th>\n",
       "    </tr>\n",
       "  </thead>\n",
       "  <tbody>\n",
       "    <tr>\n",
       "      <th>0</th>\n",
       "      <td>R1SATPO__R1SA</td>\n",
       "      <td>07:08:00</td>\n",
       "      <td>07:08:00</td>\n",
       "      <td>DEPOT:1</td>\n",
       "      <td>0</td>\n",
       "      <td>Champaign Meijer</td>\n",
       "      <td>0</td>\n",
       "      <td>0</td>\n",
       "    </tr>\n",
       "    <tr>\n",
       "      <th>1</th>\n",
       "      <td>R1SATPO__R1SA</td>\n",
       "      <td>07:13:00</td>\n",
       "      <td>07:13:00</td>\n",
       "      <td>IU:2</td>\n",
       "      <td>2</td>\n",
       "      <td>Champaign Meijer</td>\n",
       "      <td>0</td>\n",
       "      <td>0</td>\n",
       "    </tr>\n",
       "    <tr>\n",
       "      <th>2</th>\n",
       "      <td>20RED001__R1SA</td>\n",
       "      <td>07:13:00</td>\n",
       "      <td>07:13:00</td>\n",
       "      <td>IU:2</td>\n",
       "      <td>0</td>\n",
       "      <td>Champaign Meijer</td>\n",
       "      <td>0</td>\n",
       "      <td>0</td>\n",
       "    </tr>\n",
       "    <tr>\n",
       "      <th>3</th>\n",
       "      <td>20RED001__R1SA</td>\n",
       "      <td>07:14:00</td>\n",
       "      <td>07:14:00</td>\n",
       "      <td>WRTHLY:2</td>\n",
       "      <td>1</td>\n",
       "      <td>NaN</td>\n",
       "      <td>0</td>\n",
       "      <td>0</td>\n",
       "    </tr>\n",
       "    <tr>\n",
       "      <th>4</th>\n",
       "      <td>20RED001__R1SA</td>\n",
       "      <td>07:15:30</td>\n",
       "      <td>07:15:30</td>\n",
       "      <td>WHTWRT:2</td>\n",
       "      <td>2</td>\n",
       "      <td>NaN</td>\n",
       "      <td>0</td>\n",
       "      <td>0</td>\n",
       "    </tr>\n",
       "  </tbody>\n",
       "</table>\n",
       "</div>"
      ],
      "text/plain": [
       "          trip_id arrival_time departure_time   stop_id  stop_sequence  \\\n",
       "0   R1SATPO__R1SA     07:08:00       07:08:00   DEPOT:1              0   \n",
       "1   R1SATPO__R1SA     07:13:00       07:13:00      IU:2              2   \n",
       "2  20RED001__R1SA     07:13:00       07:13:00      IU:2              0   \n",
       "3  20RED001__R1SA     07:14:00       07:14:00  WRTHLY:2              1   \n",
       "4  20RED001__R1SA     07:15:30       07:15:30  WHTWRT:2              2   \n",
       "\n",
       "      stop_headsign  pickup_type  drop_off_type  \n",
       "0  Champaign Meijer            0              0  \n",
       "1  Champaign Meijer            0              0  \n",
       "2  Champaign Meijer            0              0  \n",
       "3               NaN            0              0  \n",
       "4               NaN            0              0  "
      ]
     },
     "execution_count": 70,
     "metadata": {},
     "output_type": "execute_result"
    }
   ],
   "source": [
    "stop_times_all = pd.read_csv('google_transit/stop_times.txt')\n",
    "stop_times_all.head()"
   ]
  },
  {
   "cell_type": "code",
   "execution_count": 78,
   "metadata": {},
   "outputs": [
    {
     "data": {
      "text/html": [
       "<div>\n",
       "<style scoped>\n",
       "    .dataframe tbody tr th:only-of-type {\n",
       "        vertical-align: middle;\n",
       "    }\n",
       "\n",
       "    .dataframe tbody tr th {\n",
       "        vertical-align: top;\n",
       "    }\n",
       "\n",
       "    .dataframe thead th {\n",
       "        text-align: right;\n",
       "    }\n",
       "</style>\n",
       "<table border=\"1\" class=\"dataframe\">\n",
       "  <thead>\n",
       "    <tr style=\"text-align: right;\">\n",
       "      <th></th>\n",
       "      <th>trip_id</th>\n",
       "      <th>arrival_time</th>\n",
       "      <th>departure_time</th>\n",
       "      <th>stop_id</th>\n",
       "      <th>stop_sequence</th>\n",
       "      <th>stop_headsign</th>\n",
       "      <th>pickup_type</th>\n",
       "      <th>drop_off_type</th>\n",
       "      <th>day</th>\n",
       "      <th>10/30</th>\n",
       "    </tr>\n",
       "  </thead>\n",
       "  <tbody>\n",
       "    <tr>\n",
       "      <th>93053</th>\n",
       "      <td>[@2.0.80548152@][12][1425572286750]/26__BB2_MF</td>\n",
       "      <td>15:29:00</td>\n",
       "      <td>15:29:00</td>\n",
       "      <td>PLAZA:2</td>\n",
       "      <td>70</td>\n",
       "      <td>NaN</td>\n",
       "      <td>0</td>\n",
       "      <td>0</td>\n",
       "      <td>10/30</td>\n",
       "      <td>15:29:06</td>\n",
       "    </tr>\n",
       "  </tbody>\n",
       "</table>\n",
       "</div>"
      ],
      "text/plain": [
       "                                              trip_id arrival_time  \\\n",
       "93053  [@2.0.80548152@][12][1425572286750]/26__BB2_MF     15:29:00   \n",
       "\n",
       "      departure_time  stop_id  stop_sequence stop_headsign  pickup_type  \\\n",
       "93053       15:29:00  PLAZA:2             70           NaN            0   \n",
       "\n",
       "       drop_off_type    day     10/30  \n",
       "93053              0  10/30  15:29:06  "
      ]
     },
     "execution_count": 78,
     "metadata": {},
     "output_type": "execute_result"
    }
   ],
   "source": [
    "trip_id = '[@2.0.80548152@][12][1425572286750]/26__BB2_MF'\n",
    "departure_time = '15:29:00'\n",
    "expected_time = '15:29:06'\n",
    "day = '10/30'\n",
    "stop_times_all.loc[(stop_times_all['trip_id'] == trip_id) & (stop_times_all['departure_time'] == departure_time),day] = expected_time\n",
    "stop_times_all[(stop_times_all['trip_id'] == trip_id) & (stop_times_all['departure_time'] == departure_time)]"
   ]
  }
 ],
 "metadata": {
  "kernelspec": {
   "display_name": "Python 3",
   "language": "python",
   "name": "python3"
  },
  "language_info": {
   "codemirror_mode": {
    "name": "ipython",
    "version": 3
   },
   "file_extension": ".py",
   "mimetype": "text/x-python",
   "name": "python",
   "nbconvert_exporter": "python",
   "pygments_lexer": "ipython3",
   "version": "3.6.5"
  }
 },
 "nbformat": 4,
 "nbformat_minor": 2
}
